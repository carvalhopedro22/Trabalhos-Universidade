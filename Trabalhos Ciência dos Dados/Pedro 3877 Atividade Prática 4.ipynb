{
 "cells": [
  {
   "cell_type": "code",
   "execution_count": 1,
   "id": "76aab5af",
   "metadata": {},
   "outputs": [],
   "source": [
    "import pandas  as pd\n",
    "import numpy as np\n",
    "from scipy import stats\n",
    "import matplotlib.pyplot as plt"
   ]
  },
  {
   "cell_type": "code",
   "execution_count": 2,
   "id": "156a3881",
   "metadata": {},
   "outputs": [],
   "source": [
    "def Le_Arquivo(amostra):\n",
    "    arquivo = pd.read_csv(amostra,index_col=False, header=None, squeeze=True);\n",
    "    return arquivo;"
   ]
  },
  {
   "cell_type": "code",
   "execution_count": 3,
   "id": "69948c18",
   "metadata": {},
   "outputs": [],
   "source": [
    "atraso1 = Le_Arquivo('atraso_ia171.csv')\n",
    "atraso2 = Le_Arquivo('atraso_ie666.csv')"
   ]
  },
  {
   "cell_type": "code",
   "execution_count": 10,
   "id": "f858e11b",
   "metadata": {},
   "outputs": [],
   "source": [
    "def Inferencia (dadoA,dadoB):\n",
    "    print(\"Media da amostra A: {:.2f}\" .format(dadoA.mean()))\n",
    "    print(\"Desvio Padrao A: {:.2f}\" .format(dadoA.std()))\n",
    "    erro_padraoA = dadoA.std() / np.sqrt(len(dadoA))\n",
    "    print(\"Erro Padrao A: {:.2f}\" .format(erro_padraoA))\n",
    "    print(\"\\nIntervalo de confiança: {:.2f} \".format(dadoA.mean() - 2* erro_padraoA),\"a {:.2f} \".format(dadoA.mean() + 2* erro_padraoA))\n",
    "    \n",
    "    print(\"\\nMedia da amostra B: {:.2f}\" .format(dadoB.mean()))\n",
    "    print(\"Desvio Padrao B: {:.2f}\" .format(dadoB.std()))\n",
    "    erro_padraoB = dadoB.std() / np.sqrt(len(dadoB))\n",
    "    print(\"Erro Padrao B: {:.2f}\" .format(erro_padraoB))\n",
    "    print(\"\\nIntervalo de confiança: {:.2f} \".format(dadoB.mean() - 2* erro_padraoB),\"a {:.2f} \".format(dadoB.mean() + 2* erro_padraoB))"
   ]
  },
  {
   "cell_type": "code",
   "execution_count": 11,
   "id": "2db61416",
   "metadata": {},
   "outputs": [
    {
     "name": "stdout",
     "output_type": "stream",
     "text": [
      "Media da amostra A: 500.23\n",
      "Desvio Padrao A: 23.90\n",
      "Erro Padrao A: 2.39\n",
      "\n",
      "Intervalo de confiança: 495.45  a 505.01 \n",
      "\n",
      "Media da amostra B: 186.78\n",
      "Desvio Padrao B: 53.28\n",
      "Erro Padrao B: 5.33\n",
      "\n",
      "Intervalo de confiança: 176.13  a 197.44 \n"
     ]
    }
   ],
   "source": [
    "Inferencia(atraso1,atraso2)"
   ]
  },
  {
   "cell_type": "code",
   "execution_count": 1,
   "id": "633877da",
   "metadata": {},
   "outputs": [
    {
     "name": "stdout",
     "output_type": "stream",
     "text": [
      "Questão 1:\n",
      "Logo, com os calculos podemos rejeitar H0 pois a média do protocolo da amostra ie66 está dentro do intevalo de confianca.\n"
     ]
    }
   ],
   "source": [
    "# H0: Não há diferença significativa que indique que um protocolo é melhor que o outro\n",
    "# Hipótese Alternativa: há diferença significativa que indique que um protocolo é melhor que o outro\n",
    "print(\"Questão 1:\\nLogo, com os calculos podemos rejeitar H0 pois a média do protocolo da amostra ie66 está dentro do intevalo de confianca.\")"
   ]
  },
  {
   "cell_type": "code",
   "execution_count": 13,
   "id": "971694c7",
   "metadata": {},
   "outputs": [
    {
     "name": "stdout",
     "output_type": "stream",
     "text": [
      "Media da amostra A: 9.54\n",
      "Desvio Padrao A: 3.96\n",
      "Erro Padrao A: 0.40\n",
      "\n",
      "Intervalo de confiança: 8.75  a 10.33 \n",
      "\n",
      "Media da amostra B: 8.74\n",
      "Desvio Padrao B: 3.60\n",
      "Erro Padrao B: 0.36\n",
      "\n",
      "Intervalo de confiança: 8.02  a 9.46 \n"
     ]
    }
   ],
   "source": [
    "tempoA =Le_Arquivo('tempo_combinar.csv')\n",
    "tempoB = Le_Arquivo('tempo_bitcomb.csv')\n",
    "\n",
    "Inferencia(tempoA,tempoB)"
   ]
  },
  {
   "cell_type": "code",
   "execution_count": 15,
   "id": "0450abf6",
   "metadata": {},
   "outputs": [
    {
     "name": "stdout",
     "output_type": "stream",
     "text": [
      "Questão 2:\n",
      "Neste caso, o tempo médio de execução dos algoritmos estão dentro do intervalo de confiança. Portanto, não se pode inferir.\n"
     ]
    }
   ],
   "source": [
    "print(\"Questão 2:\\nNeste caso, o tempo médio de execução dos algoritmos estão dentro do intervalo de confiança. Portanto, não se pode inferir.\")"
   ]
  },
  {
   "cell_type": "code",
   "execution_count": null,
   "id": "7e82c4ae",
   "metadata": {},
   "outputs": [],
   "source": []
  }
 ],
 "metadata": {
  "kernelspec": {
   "display_name": "Python 3",
   "language": "python",
   "name": "python3"
  },
  "language_info": {
   "codemirror_mode": {
    "name": "ipython",
    "version": 3
   },
   "file_extension": ".py",
   "mimetype": "text/x-python",
   "name": "python",
   "nbconvert_exporter": "python",
   "pygments_lexer": "ipython3",
   "version": "3.8.8"
  }
 },
 "nbformat": 4,
 "nbformat_minor": 5
}
