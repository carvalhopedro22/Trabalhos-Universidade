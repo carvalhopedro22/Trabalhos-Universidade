{
 "cells": [
  {
   "cell_type": "code",
   "execution_count": 35,
   "id": "0e314bc2",
   "metadata": {},
   "outputs": [],
   "source": [
    "import pandas as pd\n",
    "import numpy as np"
   ]
  },
  {
   "cell_type": "code",
   "execution_count": 36,
   "id": "ee06df3b",
   "metadata": {},
   "outputs": [],
   "source": [
    "# Lendo os arquivos\n",
    "homens = pd.read_csv('altura_homens.csv', index_col = False, header = None, squeeze = True)\n",
    "mulheres = pd.read_csv('altura_mulheres.csv', index_col = False, header = None, squeeze = True)"
   ]
  },
  {
   "cell_type": "code",
   "execution_count": 37,
   "id": "8883f1fa",
   "metadata": {},
   "outputs": [
    {
     "name": "stdout",
     "output_type": "stream",
     "text": [
      "Altura Homens: max(221.0), min(120.05)\n",
      "Altura Mulheres: max(190.3), min(132.82)\n"
     ]
    }
   ],
   "source": [
    "# a)Qual a altura mínima e máxima dos homens e das mulheres dessas amostras?\n",
    "print('Altura Homens: max({}), min({})'.format(homens.max(), homens.min()))\n",
    "print('Altura Mulheres: max({}), min({})'.format(mulheres.max(), mulheres.min()))"
   ]
  },
  {
   "cell_type": "code",
   "execution_count": 44,
   "id": "45b90fad",
   "metadata": {},
   "outputs": [
    {
     "name": "stdout",
     "output_type": "stream",
     "text": [
      "Altura média dos homens 175.06 com mediana 174.575\n",
      "Altura média dos mulheres 160.12 com mediana 160.055\n"
     ]
    }
   ],
   "source": [
    "# b)Qual a média da altura dos homens e das mulheres? \n",
    "# Qual a mediana dessas alturas\n",
    "print('Altura média dos homens {:.2f} com mediana {}'.format(homens.mean(), homens.median()))\n",
    "print('Altura média dos mulheres {:.2f} com mediana {}'.format(mulheres.mean(), mulheres.median()))"
   ]
  },
  {
   "cell_type": "code",
   "execution_count": 45,
   "id": "9d99032c",
   "metadata": {},
   "outputs": [
    {
     "name": "stdout",
     "output_type": "stream",
     "text": [
      "Desvio padrão dos homens é 15.33\n",
      "Desvio padrão das mulheres é 9.70\n"
     ]
    }
   ],
   "source": [
    "# c)Qual o desvio padrão da altura dos homens e das mulheres?\n",
    "print('Desvio padrão dos homens é {:.2f}'.format(homens.std()))\n",
    "print('Desvio padrão das mulheres é {:.2f}'.format(mulheres.std()))"
   ]
  },
  {
   "cell_type": "code",
   "execution_count": 40,
   "id": "45009ace",
   "metadata": {},
   "outputs": [
    {
     "name": "stdout",
     "output_type": "stream",
     "text": [
      "o perentual dos homens com altura menor que 160cm é 15.6 %\n"
     ]
    }
   ],
   "source": [
    "# d)Qual o perentual dos homens com altura menos que 160cm\n",
    "saida = (homens[homens < 160].size/homens.size) * 100.0\n",
    "print('o perentual dos homens com altura menor que 160cm é {} %'. format(saida))"
   ]
  },
  {
   "cell_type": "code",
   "execution_count": 41,
   "id": "8abae44a",
   "metadata": {},
   "outputs": [
    {
     "name": "stdout",
     "output_type": "stream",
     "text": [
      "o perentual de muheres com altura maior que 180cm é 2.4 %\n"
     ]
    }
   ],
   "source": [
    "# e)Qual o percentual de mulheres com altura maior que 180 cm\n",
    "saida = (mulheres[mulheres > 180].size/mulheres.size) * 100.0\n",
    "print('o perentual de muheres com altura maior que 180cm é {} %'. format(saida))"
   ]
  },
  {
   "cell_type": "code",
   "execution_count": 42,
   "id": "8b3b7ae5",
   "metadata": {},
   "outputs": [
    {
     "name": "stdout",
     "output_type": "stream",
     "text": [
      "Um homem com altura 185 está no percentil 73.90\n"
     ]
    }
   ],
   "source": [
    "# f)Um homem com altura 185 cm está em qual percentil? \n",
    "# https://docs.scipy.org/doc/scipy/reference/generated/scipy.stats.percentileofscore.html\n",
    "from scipy import stats\n",
    "saida = stats.percentileofscore(homens,185) \n",
    "print('Um homem com altura 185 está no percentil {:.2f}' .format(saida))"
   ]
  },
  {
   "cell_type": "code",
   "execution_count": 43,
   "id": "64381e2c",
   "metadata": {},
   "outputs": [
    {
     "name": "stdout",
     "output_type": "stream",
     "text": [
      "Uma mulher com altura 150 está no percentil 14.60\n"
     ]
    }
   ],
   "source": [
    "# g)Uma mulher com altura 150 está em qual percentil\n",
    "saida = stats.percentileofscore(mulheres,150) \n",
    "print('Uma mulher com altura 150 está no percentil {:.2f}' .format(saida))"
   ]
  },
  {
   "cell_type": "code",
   "execution_count": 47,
   "id": "d838a87d",
   "metadata": {},
   "outputs": [
    {
     "name": "stdout",
     "output_type": "stream",
     "text": [
      "174.38    3\n",
      "185.74    3\n",
      "183.22    3\n",
      "180.70    3\n",
      "165.43    3\n",
      "Name: 0, dtype: int64\n"
     ]
    }
   ],
   "source": [
    "# h)Quais as três alturas de homens sao as mais frequentes? Quantos homens possuem essas alturas?\n",
    "print('{}'.format(homens.value_counts().head()))"
   ]
  },
  {
   "cell_type": "code",
   "execution_count": 49,
   "id": "462c6c74",
   "metadata": {},
   "outputs": [
    {
     "name": "stdout",
     "output_type": "stream",
     "text": [
      "164.17    3\n",
      "163.27    3\n",
      "152.57    3\n",
      "149.26    3\n",
      "165.12    3\n",
      "Name: 0, dtype: int64\n"
     ]
    }
   ],
   "source": [
    "# i)Quais as três alturas de mulheres que são as mais frequentes? Quantas mulheres possuem essas alturas?\n",
    "print('{}'.format(mulheres.value_counts().head()))"
   ]
  },
  {
   "cell_type": "code",
   "execution_count": 50,
   "id": "707fef8f",
   "metadata": {},
   "outputs": [],
   "source": [
    "def qtdDesvios(data, altura):\n",
    "    distancia = np.abs(altura - data.mean())\n",
    "    distancia = distancia/data.std()\n",
    "    return distancia"
   ]
  },
  {
   "cell_type": "code",
   "execution_count": 51,
   "id": "ab50ff37",
   "metadata": {},
   "outputs": [
    {
     "name": "stdout",
     "output_type": "stream",
     "text": [
      "Um homem com altura 185cm está distante quantos desvios padrões da média dos homens? 0.649\n"
     ]
    }
   ],
   "source": [
    "# j)Um homem com altura 185cm está distante quantos desvios padrões da média dos homens?\n",
    "print('Um homem com altura 185cm está distante quantos desvios padrões da média dos homens? {:.3f}'.format(qtdDesvios(homens,185)))"
   ]
  },
  {
   "cell_type": "code",
   "execution_count": 53,
   "id": "6d824ac0",
   "metadata": {},
   "outputs": [
    {
     "name": "stdout",
     "output_type": "stream",
     "text": [
      "Um homem com altura 145cm está distante quantos desvios padrões da média dos homens? 1.961\n"
     ]
    }
   ],
   "source": [
    "# k)Um homem com altura 145cm está distante quantos desvios padrões da média dos homens?\n",
    "print('Um homem com altura 145cm está distante quantos desvios padrões da média dos homens? {:.3f}'.format(qtdDesvios(homens,145)))"
   ]
  },
  {
   "cell_type": "code",
   "execution_count": 54,
   "id": "3c44718c",
   "metadata": {},
   "outputs": [
    {
     "name": "stdout",
     "output_type": "stream",
     "text": [
      "Uma mulher com altura 185cm está distante quantos desvios padrões da média das mulheres? 2.565\n"
     ]
    }
   ],
   "source": [
    "# l)Uma mulher com altura 185cm está distante quantos desvios padrões da média das mulheres?\n",
    "print('Uma mulher com altura 185cm está distante quantos desvios padrões da média das mulheres? {:.3f}'.format(qtdDesvios(mulheres,185)))"
   ]
  },
  {
   "cell_type": "code",
   "execution_count": 55,
   "id": "6373f0b3",
   "metadata": {},
   "outputs": [
    {
     "name": "stdout",
     "output_type": "stream",
     "text": [
      "Uma mulher com altura 145cm está distante quantos desvios padrões da média das mulheres? 1.558\n"
     ]
    }
   ],
   "source": [
    "# m)Uma mulher com altura 145cm está distante quantos desvios padrões da média das mulheres?\n",
    "print('Uma mulher com altura 145cm está distante quantos desvios padrões da média das mulheres? {:.3f}'.format(qtdDesvios(mulheres,145)))"
   ]
  },
  {
   "cell_type": "markdown",
   "id": "66504026",
   "metadata": {},
   "source": [
    "n) Não é possível saber, pois tanto para homens quanto para mulheres, está a menos de 2 desvios.\n",
    "o) De acordo com o desvio padrão é mais provável que seja um homem.\n",
    "p) Não é possível saber, pois tanto para homens quanto para mulheres, está a menos de 1 desvio.\n",
    "q) Sim.\n",
    "\n",
    "2) O Pandas gerará, de forma simples e rápida, um conjunto de estatísticas descritivas dessas duas variáveis: a quantidade de valores, a média, o desvio padrão, o valor mínimo, os quartis da distribuição e o valor máximo.\n",
    "\n",
    "3) Dá um tuple de um array de valores únicos ordenados no dado array de entradas achatadas e um array de índices da primeira ocorrência de cada valor único."
   ]
  }
 ],
 "metadata": {
  "kernelspec": {
   "display_name": "Python 3",
   "language": "python",
   "name": "python3"
  },
  "language_info": {
   "codemirror_mode": {
    "name": "ipython",
    "version": 3
   },
   "file_extension": ".py",
   "mimetype": "text/x-python",
   "name": "python",
   "nbconvert_exporter": "python",
   "pygments_lexer": "ipython3",
   "version": "3.8.8"
  }
 },
 "nbformat": 4,
 "nbformat_minor": 5
}
