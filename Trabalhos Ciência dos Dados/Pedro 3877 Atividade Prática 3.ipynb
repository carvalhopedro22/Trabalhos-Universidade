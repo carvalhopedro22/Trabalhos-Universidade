{
 "cells": [
  {
   "cell_type": "code",
   "execution_count": 1,
   "id": "1554e955",
   "metadata": {},
   "outputs": [],
   "source": [
    "import pandas as pd\n",
    "import numpy as np"
   ]
  },
  {
   "cell_type": "code",
   "execution_count": 2,
   "id": "35d43743",
   "metadata": {},
   "outputs": [],
   "source": [
    "# Lendo os arquivos \n",
    "populacao=pd.read_csv('pesos_populacao.csv', index_col=False, header=None, squeeze=True);\n",
    "amostra1=pd.read_csv('pesos_amostra1.csv', index_col=False, header=None, squeeze=True);\n",
    "amostra2=pd.read_csv('pesos_amostra2.csv', index_col=False, header=None, squeeze=True);\n",
    "amostra3=pd.read_csv('pesos_amostra3.csv', index_col=False, header=None, squeeze=True);\n",
    "amostra4=pd.read_csv('pesos_amostra4.csv', index_col=False, header=None, squeeze=True);"
   ]
  },
  {
   "cell_type": "code",
   "execution_count": 3,
   "id": "f6b497d2",
   "metadata": {},
   "outputs": [],
   "source": [
    "# Se essa distância for maior que 3, é muito improvável que a amostra seja da mesma população.\n",
    "def verificar(amostra, populacao):\n",
    "    media_populacao = populacao.mean()\n",
    "    media_amostra = np.mean(amostra)\n",
    "    erro_padrao = populacao.std() / np.sqrt(len(amostra))\n",
    "    print('Média População: {:.3f}'.format(media_populacao))\n",
    "    print('Média Amostra: {:.3f}'.format(media_amostra))\n",
    "    print('Erro Padrão {:.3f}'.format(erro_padrao))\n",
    "    distancia = abs(media_amostra - media_populacao) / erro_padrao\n",
    "    print('A diferença entre a média da amostra e da população é de {:.3f} erros padrões'.format(distancia))"
   ]
  },
  {
   "cell_type": "code",
   "execution_count": 4,
   "id": "2ec3abbc",
   "metadata": {},
   "outputs": [
    {
     "name": "stdout",
     "output_type": "stream",
     "text": [
      "Média População: 161.994\n",
      "Média Amostra: 161.892\n",
      "Erro Padrão 1.505\n",
      "A diferença entre a média da amostra e da população é de 0.068 erros padrões\n",
      "\n",
      "\n",
      "Média População: 161.994\n",
      "Média Amostra: 72.841\n",
      "Erro Padrão 1.505\n",
      "A diferença entre a média da amostra e da população é de 59.248 erros padrões\n",
      "\n",
      "\n",
      "Média População: 161.994\n",
      "Média Amostra: 210.215\n",
      "Erro Padrão 1.505\n",
      "A diferença entre a média da amostra e da população é de 32.046 erros padrões\n",
      "\n",
      "\n",
      "Média População: 161.994\n",
      "Média Amostra: 154.322\n",
      "Erro Padrão 1.505\n",
      "A diferença entre a média da amostra e da população é de 5.099 erros padrões\n",
      "\n",
      "\n",
      "Média População: 210.215\n",
      "Média Amostra: 72.841\n",
      "Erro Padrão 0.904\n",
      "A diferença entre a média da amostra e da população é de 152.023 erros padrões\n",
      "\n",
      "\n",
      "Média População: 72.841\n",
      "Média Amostra: 210.215\n",
      "Erro Padrão 1.990\n",
      "A diferença entre a média da amostra e da população é de 69.027 erros padrões\n"
     ]
    }
   ],
   "source": [
    "# Ler dados da amostra de pesos 1 e verificar se essa amostra foi retirada ou não da população pesos.\n",
    "verificar(amostra1,populacao)\n",
    "print('\\n')\n",
    "\n",
    "# Ler dados da amostra de pesos 2 e verificar se essa amostra foi retirada ou não da população pesos.\n",
    "verificar(amostra2,populacao)\n",
    "print('\\n')\n",
    "\n",
    "# Ler dados da amostra de pesos 3 e verificar se essa amostra foi retirada ou não da população pesos.\n",
    "verificar(amostra3,populacao)\n",
    "print('\\n')\n",
    "\n",
    "# Ler dados da amostra de pesos 4 e verificar se essa amostra foi retirada ou não da população pesos.\n",
    "verificar(amostra4,populacao)\n",
    "print('\\n')\n",
    "\n",
    "# É provável que as amostras 2 e 3 tenham vindo de uma mesma população?\n",
    "verificar(amostra2,amostra3)\n",
    "print('\\n')\n",
    "verificar(amostra3,amostra2)"
   ]
  },
  {
   "cell_type": "code",
   "execution_count": null,
   "id": "9849e77e",
   "metadata": {},
   "outputs": [],
   "source": []
  }
 ],
 "metadata": {
  "kernelspec": {
   "display_name": "Python 3",
   "language": "python",
   "name": "python3"
  },
  "language_info": {
   "codemirror_mode": {
    "name": "ipython",
    "version": 3
   },
   "file_extension": ".py",
   "mimetype": "text/x-python",
   "name": "python",
   "nbconvert_exporter": "python",
   "pygments_lexer": "ipython3",
   "version": "3.8.8"
  }
 },
 "nbformat": 4,
 "nbformat_minor": 5
}
