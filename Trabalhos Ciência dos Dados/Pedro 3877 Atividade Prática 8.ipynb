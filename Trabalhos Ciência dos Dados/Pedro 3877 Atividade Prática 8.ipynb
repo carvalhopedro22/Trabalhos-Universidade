{
 "cells": [
  {
   "cell_type": "code",
   "execution_count": 1,
   "id": "ba52e348",
   "metadata": {},
   "outputs": [],
   "source": [
    "import numpy as np\n",
    "import pandas as pd\n",
    "import scipy.stats as stats\n",
    "import matplotlib.pyplot as plt\n",
    "import sklearn\n",
    "from sklearn.linear_model import LinearRegression"
   ]
  },
  {
   "cell_type": "code",
   "execution_count": 2,
   "id": "09f72671",
   "metadata": {},
   "outputs": [
    {
     "data": {
      "text/html": [
       "<div>\n",
       "<style scoped>\n",
       "    .dataframe tbody tr th:only-of-type {\n",
       "        vertical-align: middle;\n",
       "    }\n",
       "\n",
       "    .dataframe tbody tr th {\n",
       "        vertical-align: top;\n",
       "    }\n",
       "\n",
       "    .dataframe thead th {\n",
       "        text-align: right;\n",
       "    }\n",
       "</style>\n",
       "<table border=\"1\" class=\"dataframe\">\n",
       "  <thead>\n",
       "    <tr style=\"text-align: right;\">\n",
       "      <th></th>\n",
       "      <th>Formatted Date</th>\n",
       "      <th>Summary</th>\n",
       "      <th>Precip Type</th>\n",
       "      <th>Temperature (C)</th>\n",
       "      <th>Apparent Temperature (C)</th>\n",
       "      <th>Humidity</th>\n",
       "      <th>Wind Speed (km/h)</th>\n",
       "      <th>Wind Bearing (degrees)</th>\n",
       "      <th>Visibility (km)</th>\n",
       "      <th>Loud Cover</th>\n",
       "      <th>Pressure (millibars)</th>\n",
       "      <th>Daily Summary</th>\n",
       "    </tr>\n",
       "  </thead>\n",
       "  <tbody>\n",
       "    <tr>\n",
       "      <th>0</th>\n",
       "      <td>2006-04-01 00:00:00.000 +0200</td>\n",
       "      <td>Partly Cloudy</td>\n",
       "      <td>rain</td>\n",
       "      <td>9.472222</td>\n",
       "      <td>7.388889</td>\n",
       "      <td>0.89</td>\n",
       "      <td>14.1197</td>\n",
       "      <td>251.0</td>\n",
       "      <td>15.8263</td>\n",
       "      <td>0.0</td>\n",
       "      <td>1015.13</td>\n",
       "      <td>Partly cloudy throughout the day.</td>\n",
       "    </tr>\n",
       "    <tr>\n",
       "      <th>1</th>\n",
       "      <td>2006-04-01 01:00:00.000 +0200</td>\n",
       "      <td>Partly Cloudy</td>\n",
       "      <td>rain</td>\n",
       "      <td>9.355556</td>\n",
       "      <td>7.227778</td>\n",
       "      <td>0.86</td>\n",
       "      <td>14.2646</td>\n",
       "      <td>259.0</td>\n",
       "      <td>15.8263</td>\n",
       "      <td>0.0</td>\n",
       "      <td>1015.63</td>\n",
       "      <td>Partly cloudy throughout the day.</td>\n",
       "    </tr>\n",
       "    <tr>\n",
       "      <th>2</th>\n",
       "      <td>2006-04-01 02:00:00.000 +0200</td>\n",
       "      <td>Mostly Cloudy</td>\n",
       "      <td>rain</td>\n",
       "      <td>9.377778</td>\n",
       "      <td>9.377778</td>\n",
       "      <td>0.89</td>\n",
       "      <td>3.9284</td>\n",
       "      <td>204.0</td>\n",
       "      <td>14.9569</td>\n",
       "      <td>0.0</td>\n",
       "      <td>1015.94</td>\n",
       "      <td>Partly cloudy throughout the day.</td>\n",
       "    </tr>\n",
       "    <tr>\n",
       "      <th>3</th>\n",
       "      <td>2006-04-01 03:00:00.000 +0200</td>\n",
       "      <td>Partly Cloudy</td>\n",
       "      <td>rain</td>\n",
       "      <td>8.288889</td>\n",
       "      <td>5.944444</td>\n",
       "      <td>0.83</td>\n",
       "      <td>14.1036</td>\n",
       "      <td>269.0</td>\n",
       "      <td>15.8263</td>\n",
       "      <td>0.0</td>\n",
       "      <td>1016.41</td>\n",
       "      <td>Partly cloudy throughout the day.</td>\n",
       "    </tr>\n",
       "    <tr>\n",
       "      <th>4</th>\n",
       "      <td>2006-04-01 04:00:00.000 +0200</td>\n",
       "      <td>Mostly Cloudy</td>\n",
       "      <td>rain</td>\n",
       "      <td>8.755556</td>\n",
       "      <td>6.977778</td>\n",
       "      <td>0.83</td>\n",
       "      <td>11.0446</td>\n",
       "      <td>259.0</td>\n",
       "      <td>15.8263</td>\n",
       "      <td>0.0</td>\n",
       "      <td>1016.51</td>\n",
       "      <td>Partly cloudy throughout the day.</td>\n",
       "    </tr>\n",
       "    <tr>\n",
       "      <th>...</th>\n",
       "      <td>...</td>\n",
       "      <td>...</td>\n",
       "      <td>...</td>\n",
       "      <td>...</td>\n",
       "      <td>...</td>\n",
       "      <td>...</td>\n",
       "      <td>...</td>\n",
       "      <td>...</td>\n",
       "      <td>...</td>\n",
       "      <td>...</td>\n",
       "      <td>...</td>\n",
       "      <td>...</td>\n",
       "    </tr>\n",
       "    <tr>\n",
       "      <th>96448</th>\n",
       "      <td>2016-09-09 19:00:00.000 +0200</td>\n",
       "      <td>Partly Cloudy</td>\n",
       "      <td>rain</td>\n",
       "      <td>26.016667</td>\n",
       "      <td>26.016667</td>\n",
       "      <td>0.43</td>\n",
       "      <td>10.9963</td>\n",
       "      <td>31.0</td>\n",
       "      <td>16.1000</td>\n",
       "      <td>0.0</td>\n",
       "      <td>1014.36</td>\n",
       "      <td>Partly cloudy starting in the morning.</td>\n",
       "    </tr>\n",
       "    <tr>\n",
       "      <th>96449</th>\n",
       "      <td>2016-09-09 20:00:00.000 +0200</td>\n",
       "      <td>Partly Cloudy</td>\n",
       "      <td>rain</td>\n",
       "      <td>24.583333</td>\n",
       "      <td>24.583333</td>\n",
       "      <td>0.48</td>\n",
       "      <td>10.0947</td>\n",
       "      <td>20.0</td>\n",
       "      <td>15.5526</td>\n",
       "      <td>0.0</td>\n",
       "      <td>1015.16</td>\n",
       "      <td>Partly cloudy starting in the morning.</td>\n",
       "    </tr>\n",
       "    <tr>\n",
       "      <th>96450</th>\n",
       "      <td>2016-09-09 21:00:00.000 +0200</td>\n",
       "      <td>Partly Cloudy</td>\n",
       "      <td>rain</td>\n",
       "      <td>22.038889</td>\n",
       "      <td>22.038889</td>\n",
       "      <td>0.56</td>\n",
       "      <td>8.9838</td>\n",
       "      <td>30.0</td>\n",
       "      <td>16.1000</td>\n",
       "      <td>0.0</td>\n",
       "      <td>1015.66</td>\n",
       "      <td>Partly cloudy starting in the morning.</td>\n",
       "    </tr>\n",
       "    <tr>\n",
       "      <th>96451</th>\n",
       "      <td>2016-09-09 22:00:00.000 +0200</td>\n",
       "      <td>Partly Cloudy</td>\n",
       "      <td>rain</td>\n",
       "      <td>21.522222</td>\n",
       "      <td>21.522222</td>\n",
       "      <td>0.60</td>\n",
       "      <td>10.5294</td>\n",
       "      <td>20.0</td>\n",
       "      <td>16.1000</td>\n",
       "      <td>0.0</td>\n",
       "      <td>1015.95</td>\n",
       "      <td>Partly cloudy starting in the morning.</td>\n",
       "    </tr>\n",
       "    <tr>\n",
       "      <th>96452</th>\n",
       "      <td>2016-09-09 23:00:00.000 +0200</td>\n",
       "      <td>Partly Cloudy</td>\n",
       "      <td>rain</td>\n",
       "      <td>20.438889</td>\n",
       "      <td>20.438889</td>\n",
       "      <td>0.61</td>\n",
       "      <td>5.8765</td>\n",
       "      <td>39.0</td>\n",
       "      <td>15.5204</td>\n",
       "      <td>0.0</td>\n",
       "      <td>1016.16</td>\n",
       "      <td>Partly cloudy starting in the morning.</td>\n",
       "    </tr>\n",
       "  </tbody>\n",
       "</table>\n",
       "<p>96453 rows × 12 columns</p>\n",
       "</div>"
      ],
      "text/plain": [
       "                      Formatted Date        Summary Precip Type  \\\n",
       "0      2006-04-01 00:00:00.000 +0200  Partly Cloudy        rain   \n",
       "1      2006-04-01 01:00:00.000 +0200  Partly Cloudy        rain   \n",
       "2      2006-04-01 02:00:00.000 +0200  Mostly Cloudy        rain   \n",
       "3      2006-04-01 03:00:00.000 +0200  Partly Cloudy        rain   \n",
       "4      2006-04-01 04:00:00.000 +0200  Mostly Cloudy        rain   \n",
       "...                              ...            ...         ...   \n",
       "96448  2016-09-09 19:00:00.000 +0200  Partly Cloudy        rain   \n",
       "96449  2016-09-09 20:00:00.000 +0200  Partly Cloudy        rain   \n",
       "96450  2016-09-09 21:00:00.000 +0200  Partly Cloudy        rain   \n",
       "96451  2016-09-09 22:00:00.000 +0200  Partly Cloudy        rain   \n",
       "96452  2016-09-09 23:00:00.000 +0200  Partly Cloudy        rain   \n",
       "\n",
       "       Temperature (C)  Apparent Temperature (C)  Humidity  Wind Speed (km/h)  \\\n",
       "0             9.472222                  7.388889      0.89            14.1197   \n",
       "1             9.355556                  7.227778      0.86            14.2646   \n",
       "2             9.377778                  9.377778      0.89             3.9284   \n",
       "3             8.288889                  5.944444      0.83            14.1036   \n",
       "4             8.755556                  6.977778      0.83            11.0446   \n",
       "...                ...                       ...       ...                ...   \n",
       "96448        26.016667                 26.016667      0.43            10.9963   \n",
       "96449        24.583333                 24.583333      0.48            10.0947   \n",
       "96450        22.038889                 22.038889      0.56             8.9838   \n",
       "96451        21.522222                 21.522222      0.60            10.5294   \n",
       "96452        20.438889                 20.438889      0.61             5.8765   \n",
       "\n",
       "       Wind Bearing (degrees)  Visibility (km)  Loud Cover  \\\n",
       "0                       251.0          15.8263         0.0   \n",
       "1                       259.0          15.8263         0.0   \n",
       "2                       204.0          14.9569         0.0   \n",
       "3                       269.0          15.8263         0.0   \n",
       "4                       259.0          15.8263         0.0   \n",
       "...                       ...              ...         ...   \n",
       "96448                    31.0          16.1000         0.0   \n",
       "96449                    20.0          15.5526         0.0   \n",
       "96450                    30.0          16.1000         0.0   \n",
       "96451                    20.0          16.1000         0.0   \n",
       "96452                    39.0          15.5204         0.0   \n",
       "\n",
       "       Pressure (millibars)                           Daily Summary  \n",
       "0                   1015.13       Partly cloudy throughout the day.  \n",
       "1                   1015.63       Partly cloudy throughout the day.  \n",
       "2                   1015.94       Partly cloudy throughout the day.  \n",
       "3                   1016.41       Partly cloudy throughout the day.  \n",
       "4                   1016.51       Partly cloudy throughout the day.  \n",
       "...                     ...                                     ...  \n",
       "96448               1014.36  Partly cloudy starting in the morning.  \n",
       "96449               1015.16  Partly cloudy starting in the morning.  \n",
       "96450               1015.66  Partly cloudy starting in the morning.  \n",
       "96451               1015.95  Partly cloudy starting in the morning.  \n",
       "96452               1016.16  Partly cloudy starting in the morning.  \n",
       "\n",
       "[96453 rows x 12 columns]"
      ]
     },
     "execution_count": 2,
     "metadata": {},
     "output_type": "execute_result"
    }
   ],
   "source": [
    "dados = pd.read_csv('weatherHistory.csv')\n",
    "dados"
   ]
  },
  {
   "cell_type": "code",
   "execution_count": 3,
   "id": "2d4ecc51",
   "metadata": {},
   "outputs": [
    {
     "name": "stdout",
     "output_type": "stream",
     "text": [
      "<class 'pandas.core.frame.DataFrame'>\n",
      "RangeIndex: 96453 entries, 0 to 96452\n",
      "Data columns (total 12 columns):\n",
      " #   Column                    Non-Null Count  Dtype  \n",
      "---  ------                    --------------  -----  \n",
      " 0   Formatted Date            96453 non-null  object \n",
      " 1   Summary                   96453 non-null  object \n",
      " 2   Precip Type               95936 non-null  object \n",
      " 3   Temperature (C)           96453 non-null  float64\n",
      " 4   Apparent Temperature (C)  96453 non-null  float64\n",
      " 5   Humidity                  96453 non-null  float64\n",
      " 6   Wind Speed (km/h)         96453 non-null  float64\n",
      " 7   Wind Bearing (degrees)    96453 non-null  float64\n",
      " 8   Visibility (km)           96453 non-null  float64\n",
      " 9   Loud Cover                96453 non-null  float64\n",
      " 10  Pressure (millibars)      96453 non-null  float64\n",
      " 11  Daily Summary             96453 non-null  object \n",
      "dtypes: float64(8), object(4)\n",
      "memory usage: 8.8+ MB\n"
     ]
    }
   ],
   "source": [
    "dados.info()"
   ]
  },
  {
   "cell_type": "markdown",
   "id": "544e8b0e",
   "metadata": {},
   "source": [
    "### Letra A)"
   ]
  },
  {
   "cell_type": "code",
   "execution_count": 4,
   "id": "1f31aeb0",
   "metadata": {},
   "outputs": [
    {
     "name": "stdout",
     "output_type": "stream",
     "text": [
      "temp : humu\n"
     ]
    },
    {
     "data": {
      "image/png": "[encoded data removed]",
      "text/plain": [
       "<Figure size 432x288 with 1 Axes>"
      ]
     },
     "metadata": {
      "needs_background": "light"
     },
     "output_type": "display_data"
    },
    {
     "name": "stdout",
     "output_type": "stream",
     "text": [
      "temp : speed\n"
     ]
    },
    {
     "data": {
      "image/png": "[encoded data removed]",
      "text/plain": [
       "<Figure size 432x288 with 1 Axes>"
      ]
     },
     "metadata": {
      "needs_background": "light"
     },
     "output_type": "display_data"
    },
    {
     "name": "stdout",
     "output_type": "stream",
     "text": [
      "temp: bearing\n"
     ]
    },
    {
     "data": {
      "image/png": "[encoded data removed]",
      "text/plain": [
       "<Figure size 432x288 with 1 Axes>"
      ]
     },
     "metadata": {
      "needs_background": "light"
     },
     "output_type": "display_data"
    },
    {
     "name": "stdout",
     "output_type": "stream",
     "text": [
      "temp : visibility\n"
     ]
    },
    {
     "data": {
      "image/png": "[encoded data removed]",
      "text/plain": [
       "<Figure size 432x288 with 1 Axes>"
      ]
     },
     "metadata": {
      "needs_background": "light"
     },
     "output_type": "display_data"
    },
    {
     "name": "stdout",
     "output_type": "stream",
     "text": [
      "temp : loud\n"
     ]
    },
    {
     "data": {
      "image/png": "[encoded data removed]",
      "text/plain": [
       "<Figure size 432x288 with 1 Axes>"
      ]
     },
     "metadata": {
      "needs_background": "light"
     },
     "output_type": "display_data"
    },
    {
     "name": "stdout",
     "output_type": "stream",
     "text": [
      "temp : pressure\n"
     ]
    },
    {
     "data": {
      "image/png": "[encoded data removed]",
      "text/plain": [
       "<Figure size 432x288 with 1 Axes>"
      ]
     },
     "metadata": {
      "needs_background": "light"
     },
     "output_type": "display_data"
    },
    {
     "name": "stdout",
     "output_type": "stream",
     "text": [
      "humi : speed\n"
     ]
    },
    {
     "data": {
      "image/png": "[encoded data removed]",
      "text/plain": [
       "<Figure size 432x288 with 1 Axes>"
      ]
     },
     "metadata": {
      "needs_background": "light"
     },
     "output_type": "display_data"
    },
    {
     "name": "stdout",
     "output_type": "stream",
     "text": [
      "humi : bearing\n"
     ]
    },
    {
     "data": {
      "image/png": "[encoded data removed]",
      "text/plain": [
       "<Figure size 432x288 with 1 Axes>"
      ]
     },
     "metadata": {
      "needs_background": "light"
     },
     "output_type": "display_data"
    },
    {
     "name": "stdout",
     "output_type": "stream",
     "text": [
      "humi : visi\n"
     ]
    },
    {
     "data": {
      "image/png": "[encoded data removed]",
      "text/plain": [
       "<Figure size 432x288 with 1 Axes>"
      ]
     },
     "metadata": {
      "needs_background": "light"
     },
     "output_type": "display_data"
    },
    {
     "name": "stdout",
     "output_type": "stream",
     "text": [
      "humi : cover\n"
     ]
    },
    {
     "data": {
      "image/png": "[encoded data removed]",
      "text/plain": [
       "<Figure size 432x288 with 1 Axes>"
      ]
     },
     "metadata": {
      "needs_background": "light"
     },
     "output_type": "display_data"
    },
    {
     "name": "stdout",
     "output_type": "stream",
     "text": [
      "humi : pressure\n"
     ]
    },
    {
     "data": {
      "image/png": "[encoded data removed]",
      "text/plain": [
       "<Figure size 432x288 with 1 Axes>"
      ]
     },
     "metadata": {
      "needs_background": "light"
     },
     "output_type": "display_data"
    }
   ],
   "source": [
    "print('temp : humu')\n",
    "plt.scatter(dados['Temperature (C)'], dados['Humidity'])\n",
    "plt.show()\n",
    "print('temp : speed')\n",
    "plt.scatter(dados['Temperature (C)'], dados['Wind Speed (km/h)'])\n",
    "plt.show()\n",
    "print('temp: bearing')\n",
    "plt.scatter(dados['Temperature (C)'], dados['Wind Bearing (degrees)'])\n",
    "plt.show()\n",
    "print('temp : visibility')\n",
    "plt.scatter(dados['Temperature (C)'], dados['Visibility (km)'])\n",
    "plt.show()\n",
    "print('temp : loud')\n",
    "plt.scatter(dados['Temperature (C)'], dados['Loud Cover'])\n",
    "plt.show()\n",
    "print('temp : pressure')\n",
    "plt.scatter(dados['Temperature (C)'], dados['Pressure (millibars)'])\n",
    "plt.show()\n",
    "print('humi : speed')\n",
    "plt.scatter(dados['Humidity'], dados['Wind Speed (km/h)'])\n",
    "plt.show()\n",
    "print('humi : bearing')\n",
    "plt.scatter(dados['Humidity'], dados['Wind Bearing (degrees)'])\n",
    "plt.show()\n",
    "print('humi : visi')\n",
    "plt.scatter(dados['Humidity'], dados['Visibility (km)'])\n",
    "plt.show()\n",
    "print('humi : cover')\n",
    "plt.scatter(dados['Humidity'], dados['Loud Cover'])\n",
    "plt.show()\n",
    "print('humi : pressure')\n",
    "plt.scatter(dados['Humidity'], dados['Pressure (millibars)'])\n",
    "plt.show()"
   ]
  },
  {
   "cell_type": "markdown",
   "id": "7717cf33",
   "metadata": {},
   "source": [
    "### Letra B)"
   ]
  },
  {
   "cell_type": "code",
   "execution_count": 6,
   "id": "65958c18",
   "metadata": {},
   "outputs": [
    {
     "name": "stdout",
     "output_type": "stream",
     "text": [
      "Equação: 0.89 + (-0.01) * Humidity  | Coefiente de determinação: 0.40\n"
     ]
    }
   ],
   "source": [
    "x = dados['Temperature (C)']\n",
    "y = dados['Humidity']\n",
    "lr = LinearRegression()\n",
    "lr.fit(x.values.reshape(-1,1),y)\n",
    "print('Equação: {:.2f} + ({:.2f}) * Humidity  | Coefiente de determinação: {:.2f}'.format(lr.intercept_,lr.coef_[0],lr.score(x.values.reshape(-1,1),y)))"
   ]
  },
  {
   "cell_type": "markdown",
   "id": "8476dab8",
   "metadata": {},
   "source": [
    "### Letra C)"
   ]
  },
  {
   "cell_type": "code",
   "execution_count": 7,
   "id": "338fe570",
   "metadata": {},
   "outputs": [
    {
     "name": "stdout",
     "output_type": "stream",
     "text": [
      "Equação: 10.73 + (0.01) * Wind Speed (km/h) | Coefiente de determinação: 0.00\n"
     ]
    }
   ],
   "source": [
    "x = dados['Temperature (C)']\n",
    "y = dados['Wind Speed (km/h)']\n",
    "lr = LinearRegression()\n",
    "lr.fit(x.values.reshape(-1,1),y)\n",
    "print('Equação: {:.2f} + ({:.2f}) * Wind Speed (km/h) | Coefiente de determinação: {:.2f}'.format(lr.intercept_,lr.coef_[0], lr.score(x.values.reshape(-1,1),y)))"
   ]
  },
  {
   "cell_type": "markdown",
   "id": "47ad359a",
   "metadata": {},
   "source": [
    "### Letra D)"
   ]
  },
  {
   "cell_type": "code",
   "execution_count": 8,
   "id": "b062cbb9",
   "metadata": {},
   "outputs": [
    {
     "name": "stdout",
     "output_type": "stream",
     "text": [
      "Equação: 37.87 + (-0.19) * Wind Speed (km/h) + (-32.44) * Humidity\n"
     ]
    }
   ],
   "source": [
    "x = dados[['Wind Speed (km/h)', 'Humidity']]\n",
    "y = dados['Temperature (C)']\n",
    "lr = LinearRegression()\n",
    "lr.fit(x,y)\n",
    "print('Equação: {:.2f} + ({:.2f}) * Wind Speed (km/h) + ({:.2f}) * Humidity'.format(lr.intercept_,lr.coef_[0],lr.coef_[1]))"
   ]
  },
  {
   "cell_type": "markdown",
   "id": "f5e8cada",
   "metadata": {},
   "source": [
    "### Letra E)"
   ]
  },
  {
   "cell_type": "code",
   "execution_count": 9,
   "id": "28f7150a",
   "metadata": {},
   "outputs": [
    {
     "name": "stdout",
     "output_type": "stream",
     "text": [
      "Umidade X temperatura | coeficiente : 0.40 \n",
      "Umidade X velocidade do vento | coeficiente : 0.05 \n",
      "Umidade X Wind Bearing (degrees) | coeficiente : 0.00 \n",
      "Umidade X Visibility (km) | coeficiente : 0.14 \n",
      "Umidade X Loud Cover | coeficiente : 1.00 \n",
      "Umidade X Pressure (millibars) | coeficiente : 0.00 \n"
     ]
    }
   ],
   "source": [
    "x = dados['Humidity']\n",
    "\n",
    "y = dados['Temperature (C)']\n",
    "lr = LinearRegression()\n",
    "lr.fit(x.values.reshape(-1,1),y)\n",
    "print('Umidade X temperatura | coeficiente : {:.2f} '.format(lr.score(x.values.reshape(-1,1),y)))\n",
    "\n",
    "y = dados['Wind Speed (km/h)']\n",
    "lr = LinearRegression()\n",
    "lr.fit(x.values.reshape(-1,1),y)\n",
    "print('Umidade X velocidade do vento | coeficiente : {:.2f} '.format(lr.score(x.values.reshape(-1,1),y)))\n",
    "\n",
    "y = dados['Wind Bearing (degrees)']\n",
    "lr = LinearRegression()\n",
    "lr.fit(x.values.reshape(-1,1),y)\n",
    "print('Umidade X Wind Bearing (degrees) | coeficiente : {:.2f} '.format(lr.score(x.values.reshape(-1,1),y)))\n",
    "\n",
    "y = dados['Visibility (km)']\n",
    "lr = LinearRegression()\n",
    "lr.fit(x.values.reshape(-1,1),y)\n",
    "print('Umidade X Visibility (km) | coeficiente : {:.2f} '.format(lr.score(x.values.reshape(-1,1),y)))\n",
    "\n",
    "y = dados['Loud Cover']\n",
    "lr = LinearRegression()\n",
    "lr.fit(x.values.reshape(-1,1),y)\n",
    "print('Umidade X Loud Cover | coeficiente : {:.2f} '.format(lr.score(x.values.reshape(-1,1),y)))\n",
    "\n",
    "y = dados['Pressure (millibars)']\n",
    "lr = LinearRegression()\n",
    "lr.fit(x.values.reshape(-1,1),y)\n",
    "print('Umidade X Pressure (millibars) | coeficiente : {:.2f} '.format(lr.score(x.values.reshape(-1,1),y)))"
   ]
  },
  {
   "cell_type": "code",
   "execution_count": 10,
   "id": "496b7b8d",
   "metadata": {},
   "outputs": [
    {
     "name": "stdout",
     "output_type": "stream",
     "text": [
      "Umidade X temperatura | coeficiente : 0.40 \n",
      "Umidade X velocidade do vento | coeficiente : 0.05 \n",
      "Umidade X Wind Bearing (degrees) | coeficiente : 0.00 \n",
      "Umidade X Visibility (km) | coeficiente : 0.14 \n",
      "Umidade X Loud Cover | coeficiente : 0.00 \n",
      "Umidade X Pressure (millibars) | coeficiente : 0.00 \n"
     ]
    }
   ],
   "source": [
    "y = dados['Humidity']\n",
    "\n",
    "x = dados['Temperature (C)']\n",
    "lr = LinearRegression()\n",
    "lr.fit(x.values.reshape(-1,1),y)\n",
    "print('Umidade X temperatura | coeficiente : {:.2f} '.format(lr.score(x.values.reshape(-1,1),y)))\n",
    "\n",
    "x = dados['Wind Speed (km/h)']\n",
    "lr = LinearRegression()\n",
    "lr.fit(x.values.reshape(-1,1),y)\n",
    "print('Umidade X velocidade do vento | coeficiente : {:.2f} '.format(lr.score(x.values.reshape(-1,1),y)))\n",
    "\n",
    "x = dados['Wind Bearing (degrees)']\n",
    "lr = LinearRegression()\n",
    "lr.fit(x.values.reshape(-1,1),y)\n",
    "print('Umidade X Wind Bearing (degrees) | coeficiente : {:.2f} '.format(lr.score(x.values.reshape(-1,1),y)))\n",
    "\n",
    "x = dados['Visibility (km)']\n",
    "lr = LinearRegression()\n",
    "lr.fit(x.values.reshape(-1,1),y)\n",
    "print('Umidade X Visibility (km) | coeficiente : {:.2f} '.format(lr.score(x.values.reshape(-1,1),y)))\n",
    "\n",
    "x = dados['Loud Cover']\n",
    "lr = LinearRegression()\n",
    "lr.fit(x.values.reshape(-1,1),y)\n",
    "print('Umidade X Loud Cover | coeficiente : {:.2f} '.format(lr.score(x.values.reshape(-1,1),y)))\n",
    "\n",
    "x = dados['Pressure (millibars)']\n",
    "lr = LinearRegression()\n",
    "lr.fit(x.values.reshape(-1,1),y)\n",
    "print('Umidade X Pressure (millibars) | coeficiente : {:.2f} '.format(lr.score(x.values.reshape(-1,1),y)))"
   ]
  },
  {
   "cell_type": "markdown",
   "id": "426c0c9f",
   "metadata": {},
   "source": [
    "#### Dado os resultados acima, somente a temperatura tem maior coeficiente de determinação para explicar a Umidade aproximada de 40%."
   ]
  },
  {
   "cell_type": "code",
   "execution_count": null,
   "id": "bd7d99ca",
   "metadata": {},
   "outputs": [],
   "source": []
  }
 ],
 "metadata": {
  "kernelspec": {
   "display_name": "Python 3",
   "language": "python",
   "name": "python3"
  },
  "language_info": {
   "codemirror_mode": {
    "name": "ipython",
    "version": 3
   },
   "file_extension": ".py",
   "mimetype": "text/x-python",
   "name": "python",
   "nbconvert_exporter": "python",
   "pygments_lexer": "ipython3",
   "version": "3.8.8"
  }
 },
 "nbformat": 4,
 "nbformat_minor": 5
}
