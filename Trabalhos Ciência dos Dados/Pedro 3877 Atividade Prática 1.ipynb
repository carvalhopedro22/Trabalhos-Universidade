{
 "cells": [
  {
   "cell_type": "code",
   "execution_count": 1,
   "id": "3595b350",
   "metadata": {},
   "outputs": [],
   "source": [
    "# Bibliotecas\n",
    "import pandas as pd\n",
    "import numpy as np\n",
    "import random"
   ]
  },
  {
   "cell_type": "code",
   "execution_count": 2,
   "id": "bb402bfa",
   "metadata": {},
   "outputs": [
    {
     "name": "stdout",
     "output_type": "stream",
     "text": [
      "0     -823\n",
      "1      516\n",
      "2      660\n",
      "3     -741\n",
      "4     -625\n",
      "      ... \n",
      "495    928\n",
      "496   -703\n",
      "497    183\n",
      "498   -143\n",
      "499   -473\n",
      "Length: 500, dtype: int64\n"
     ]
    }
   ],
   "source": [
    "# Gerar uma Série com 500 valores aleatórios entre -1000 e 1000\n",
    "\n",
    "# Usando random.sample -> (range(intervalo),quantidade)\n",
    "rand = random.sample(range(-1000,1000),500)\n",
    "valores = pd.Series(rand)\n",
    "print(valores)"
   ]
  },
  {
   "cell_type": "code",
   "execution_count": 3,
   "id": "52e6fce5",
   "metadata": {},
   "outputs": [
    {
     "name": "stdout",
     "output_type": "stream",
     "text": [
      "Maior valor: 999\n",
      "Menor valor: -1000\n"
     ]
    }
   ],
   "source": [
    "# a) Imprimir o maior e o menor valor\n",
    "\n",
    "# Função para maior valor = max\n",
    "# Função para menor valor = min\n",
    "print(\"Maior valor: {}\" .format(valores.max()))\n",
    "print(\"Menor valor: {}\" .format(valores.min()))"
   ]
  },
  {
   "cell_type": "code",
   "execution_count": 4,
   "id": "2f0b1fda",
   "metadata": {},
   "outputs": [
    {
     "name": "stdout",
     "output_type": "stream",
     "text": [
      "1      516\n",
      "2      660\n",
      "5      254\n",
      "7      748\n",
      "8      432\n",
      "      ... \n",
      "481    138\n",
      "485    823\n",
      "488    570\n",
      "495    928\n",
      "497    183\n",
      "Length: 248, dtype: int64\n"
     ]
    }
   ],
   "source": [
    "# b) Imprimir somente valores positivos\n",
    "print('{}' .format(valores[valores > 0]))"
   ]
  },
  {
   "cell_type": "code",
   "execution_count": 5,
   "id": "d83335f4",
   "metadata": {},
   "outputs": [
    {
     "name": "stdout",
     "output_type": "stream",
     "text": [
      "0     -823\n",
      "3     -741\n",
      "4     -625\n",
      "12    -867\n",
      "15     597\n",
      "      ... \n",
      "493   -929\n",
      "496   -703\n",
      "497    183\n",
      "498   -143\n",
      "499   -473\n",
      "Length: 254, dtype: int64\n"
     ]
    }
   ],
   "source": [
    "# c) Imprimir somente valores ímpares\n",
    "print('{}' .format(valores[valores % 2 != 0]))"
   ]
  },
  {
   "cell_type": "code",
   "execution_count": 6,
   "id": "735098bb",
   "metadata": {},
   "outputs": [
    {
     "name": "stdout",
     "output_type": "stream",
     "text": [
      "50    -318\n",
      "51    -525\n",
      "52     950\n",
      "53     172\n",
      "54    -296\n",
      "55     548\n",
      "56     -52\n",
      "57     -56\n",
      "58     985\n",
      "59       8\n",
      "60     116\n",
      "61    -881\n",
      "62     148\n",
      "63    -657\n",
      "64      58\n",
      "65     406\n",
      "66     910\n",
      "67    -244\n",
      "68     123\n",
      "69     225\n",
      "70    -664\n",
      "71    -167\n",
      "72    -684\n",
      "73     111\n",
      "74    -855\n",
      "75     151\n",
      "76     416\n",
      "77     -22\n",
      "78     827\n",
      "79    -979\n",
      "80       4\n",
      "81     793\n",
      "82     624\n",
      "83    -736\n",
      "84    -889\n",
      "85     878\n",
      "86     767\n",
      "87    -222\n",
      "88     422\n",
      "89    -363\n",
      "90    -276\n",
      "91     309\n",
      "92     619\n",
      "93     600\n",
      "94     473\n",
      "95    -520\n",
      "96     999\n",
      "97     475\n",
      "98     545\n",
      "99    -879\n",
      "100    613\n",
      "dtype: int64\n"
     ]
    }
   ],
   "source": [
    "# d) Imprimir os valores das posições/índices de 50 a 100, inclusive\n",
    "print('{}' .format(valores[50:101]))"
   ]
  },
  {
   "cell_type": "code",
   "execution_count": 7,
   "id": "4de29eb7",
   "metadata": {},
   "outputs": [
    {
     "name": "stdout",
     "output_type": "stream",
     "text": [
      "246\n"
     ]
    }
   ],
   "source": [
    "# e) A quantidade de valores pares\n",
    "print('{}' .format(valores[valores % 2 == 0].size))"
   ]
  },
  {
   "cell_type": "code",
   "execution_count": 8,
   "id": "20f4221e",
   "metadata": {},
   "outputs": [
    {
     "name": "stdout",
     "output_type": "stream",
     "text": [
      "115\n"
     ]
    }
   ],
   "source": [
    "# f) A quantidade de valores maiores que 500\n",
    "print('{}' .format(valores[valores > 500].size))"
   ]
  },
  {
   "cell_type": "code",
   "execution_count": 10,
   "id": "1b02f035",
   "metadata": {},
   "outputs": [
    {
     "name": "stdout",
     "output_type": "stream",
     "text": [
      "1      516\n",
      "2      660\n",
      "15     597\n",
      "19     537\n",
      "40     550\n",
      "55     548\n",
      "82     624\n",
      "92     619\n",
      "93     600\n",
      "98     545\n",
      "100    613\n",
      "114    647\n",
      "117    522\n",
      "123    547\n",
      "124    585\n",
      "127    571\n",
      "132    607\n",
      "162    688\n",
      "167    553\n",
      "195    620\n",
      "201    690\n",
      "235    685\n",
      "254    657\n",
      "260    697\n",
      "263    512\n",
      "267    667\n",
      "270    555\n",
      "273    643\n",
      "284    501\n",
      "290    626\n",
      "297    587\n",
      "300    663\n",
      "302    563\n",
      "306    508\n",
      "308    556\n",
      "339    574\n",
      "351    642\n",
      "360    632\n",
      "380    699\n",
      "386    669\n",
      "391    612\n",
      "411    580\n",
      "419    592\n",
      "422    533\n",
      "436    515\n",
      "452    507\n",
      "457    536\n",
      "458    631\n",
      "475    635\n",
      "480    671\n",
      "488    570\n",
      "dtype: int64\n"
     ]
    }
   ],
   "source": [
    "# g) Os valores maiores que 500 e menores que 700\n",
    "print('{}' .format(valores[(valores > 500) & (valores < 700)]))"
   ]
  },
  {
   "cell_type": "code",
   "execution_count": 11,
   "id": "67d7b31a",
   "metadata": {},
   "outputs": [
    {
     "name": "stdout",
     "output_type": "stream",
     "text": [
      "0            NaN\n",
      "1      22.715633\n",
      "2      25.690465\n",
      "3            NaN\n",
      "4            NaN\n",
      "         ...    \n",
      "495    30.463092\n",
      "496          NaN\n",
      "497    13.527749\n",
      "498          NaN\n",
      "499          NaN\n",
      "Length: 500, dtype: float64\n"
     ]
    }
   ],
   "source": [
    "# h) A raiz quadrada de todos os valores\n",
    "print('{}' .format(valores ** (1/2)))"
   ]
  }
 ],
 "metadata": {
  "kernelspec": {
   "display_name": "Python 3",
   "language": "python",
   "name": "python3"
  },
  "language_info": {
   "codemirror_mode": {
    "name": "ipython",
    "version": 3
   },
   "file_extension": ".py",
   "mimetype": "text/x-python",
   "name": "python",
   "nbconvert_exporter": "python",
   "pygments_lexer": "ipython3",
   "version": "3.8.8"
  }
 },
 "nbformat": 4,
 "nbformat_minor": 5
}
